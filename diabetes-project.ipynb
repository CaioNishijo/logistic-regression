{
 "cells": [
  {
   "cell_type": "markdown",
   "id": "df22db0e-83c5-4add-b883-d3a1eb056521",
   "metadata": {},
   "source": [
    "# Introduction"
   ]
  },
  {
   "cell_type": "markdown",
   "id": "6ae702dd-4524-4c7c-9bbc-111c7365d9db",
   "metadata": {},
   "source": [
    "*This project have educational purposes, for me to apply and understood the depths of logistic regression and machine learning*"
   ]
  },
  {
   "cell_type": "markdown",
   "id": "228e7b10-b6ad-4b74-86f6-9c4efaedc5ad",
   "metadata": {},
   "source": [
    "The goal of this project is to use logistic regression and machine learning to extract informations and relations between features, focusing on understanding if for this amount of data how much the income can influence on probability to develop diabetes."
   ]
  },
  {
   "cell_type": "markdown",
   "id": "c5b09bec-f5b3-4be0-a257-84332d2a1f84",
   "metadata": {},
   "source": [
    "# Basic imports"
   ]
  },
  {
   "cell_type": "code",
   "execution_count": 1,
   "id": "c365febe-9a81-42f4-8579-3d232fe9542a",
   "metadata": {},
   "outputs": [],
   "source": [
    "import torch\n",
    "import numpy as np\n",
    "import matplotlib.pyplot as plt\n",
    "import pandas as pd\n",
    "from torch import nn\n",
    "\n",
    "device = \"cuda\" if torch.cuda.is_available() else \"cpu\""
   ]
  },
  {
   "cell_type": "markdown",
   "id": "ba6ba9c9-3ccb-4ed5-8cd4-8f9c89902715",
   "metadata": {},
   "source": [
    "# Data"
   ]
  },
  {
   "cell_type": "markdown",
   "id": "fb8902a8-5c49-4d4e-b6b9-2851f9d7e9fc",
   "metadata": {},
   "source": [
    "This dataset is based on BRFSS, Behavioral Risk Factor Surveillance System, an important survey applied by Center for Disease Control and Prevention (CDC) of USA, this survey collects data from all states and territories of the country focusing on general health"
   ]
  },
  {
   "cell_type": "code",
   "execution_count": 2,
   "id": "353e94fb-9837-40d2-996d-f54c3daba6e1",
   "metadata": {},
   "outputs": [],
   "source": [
    "# https://www.kaggle.com/datasets/alexteboul/diabetes-health-indicators-dataset?select=diabetes_binary_5050split_health_indicators_BRFSS2015.csv\n",
    "# https://www.cdc.gov/brfss/annual_data/2015/pdf/codebook15_llcp.pdf\n",
    "df = pd.read_csv(\"archive/diabetes_binary_5050split_health_indicators_BRFSS2015.csv\")"
   ]
  },
  {
   "cell_type": "code",
   "execution_count": 3,
   "id": "74bf8cee-ba98-4d6c-88e9-34b2593909e0",
   "metadata": {
    "scrolled": true
   },
   "outputs": [
    {
     "data": {
      "text/html": [
       "<div>\n",
       "<style scoped>\n",
       "    .dataframe tbody tr th:only-of-type {\n",
       "        vertical-align: middle;\n",
       "    }\n",
       "\n",
       "    .dataframe tbody tr th {\n",
       "        vertical-align: top;\n",
       "    }\n",
       "\n",
       "    .dataframe thead th {\n",
       "        text-align: right;\n",
       "    }\n",
       "</style>\n",
       "<table border=\"1\" class=\"dataframe\">\n",
       "  <thead>\n",
       "    <tr style=\"text-align: right;\">\n",
       "      <th></th>\n",
       "      <th>Diabetes_binary</th>\n",
       "      <th>HighBP</th>\n",
       "      <th>HighChol</th>\n",
       "      <th>CholCheck</th>\n",
       "      <th>BMI</th>\n",
       "      <th>Smoker</th>\n",
       "      <th>Stroke</th>\n",
       "      <th>HeartDiseaseorAttack</th>\n",
       "      <th>PhysActivity</th>\n",
       "      <th>Fruits</th>\n",
       "      <th>...</th>\n",
       "      <th>AnyHealthcare</th>\n",
       "      <th>NoDocbcCost</th>\n",
       "      <th>GenHlth</th>\n",
       "      <th>MentHlth</th>\n",
       "      <th>PhysHlth</th>\n",
       "      <th>DiffWalk</th>\n",
       "      <th>Sex</th>\n",
       "      <th>Age</th>\n",
       "      <th>Education</th>\n",
       "      <th>Income</th>\n",
       "    </tr>\n",
       "  </thead>\n",
       "  <tbody>\n",
       "    <tr>\n",
       "      <th>0</th>\n",
       "      <td>0.0</td>\n",
       "      <td>1.0</td>\n",
       "      <td>0.0</td>\n",
       "      <td>1.0</td>\n",
       "      <td>26.0</td>\n",
       "      <td>0.0</td>\n",
       "      <td>0.0</td>\n",
       "      <td>0.0</td>\n",
       "      <td>1.0</td>\n",
       "      <td>0.0</td>\n",
       "      <td>...</td>\n",
       "      <td>1.0</td>\n",
       "      <td>0.0</td>\n",
       "      <td>3.0</td>\n",
       "      <td>5.0</td>\n",
       "      <td>30.0</td>\n",
       "      <td>0.0</td>\n",
       "      <td>1.0</td>\n",
       "      <td>4.0</td>\n",
       "      <td>6.0</td>\n",
       "      <td>8.0</td>\n",
       "    </tr>\n",
       "    <tr>\n",
       "      <th>1</th>\n",
       "      <td>0.0</td>\n",
       "      <td>1.0</td>\n",
       "      <td>1.0</td>\n",
       "      <td>1.0</td>\n",
       "      <td>26.0</td>\n",
       "      <td>1.0</td>\n",
       "      <td>1.0</td>\n",
       "      <td>0.0</td>\n",
       "      <td>0.0</td>\n",
       "      <td>1.0</td>\n",
       "      <td>...</td>\n",
       "      <td>1.0</td>\n",
       "      <td>0.0</td>\n",
       "      <td>3.0</td>\n",
       "      <td>0.0</td>\n",
       "      <td>0.0</td>\n",
       "      <td>0.0</td>\n",
       "      <td>1.0</td>\n",
       "      <td>12.0</td>\n",
       "      <td>6.0</td>\n",
       "      <td>8.0</td>\n",
       "    </tr>\n",
       "    <tr>\n",
       "      <th>2</th>\n",
       "      <td>0.0</td>\n",
       "      <td>0.0</td>\n",
       "      <td>0.0</td>\n",
       "      <td>1.0</td>\n",
       "      <td>26.0</td>\n",
       "      <td>0.0</td>\n",
       "      <td>0.0</td>\n",
       "      <td>0.0</td>\n",
       "      <td>1.0</td>\n",
       "      <td>1.0</td>\n",
       "      <td>...</td>\n",
       "      <td>1.0</td>\n",
       "      <td>0.0</td>\n",
       "      <td>1.0</td>\n",
       "      <td>0.0</td>\n",
       "      <td>10.0</td>\n",
       "      <td>0.0</td>\n",
       "      <td>1.0</td>\n",
       "      <td>13.0</td>\n",
       "      <td>6.0</td>\n",
       "      <td>8.0</td>\n",
       "    </tr>\n",
       "    <tr>\n",
       "      <th>3</th>\n",
       "      <td>0.0</td>\n",
       "      <td>1.0</td>\n",
       "      <td>1.0</td>\n",
       "      <td>1.0</td>\n",
       "      <td>28.0</td>\n",
       "      <td>1.0</td>\n",
       "      <td>0.0</td>\n",
       "      <td>0.0</td>\n",
       "      <td>1.0</td>\n",
       "      <td>1.0</td>\n",
       "      <td>...</td>\n",
       "      <td>1.0</td>\n",
       "      <td>0.0</td>\n",
       "      <td>3.0</td>\n",
       "      <td>0.0</td>\n",
       "      <td>3.0</td>\n",
       "      <td>0.0</td>\n",
       "      <td>1.0</td>\n",
       "      <td>11.0</td>\n",
       "      <td>6.0</td>\n",
       "      <td>8.0</td>\n",
       "    </tr>\n",
       "    <tr>\n",
       "      <th>4</th>\n",
       "      <td>0.0</td>\n",
       "      <td>0.0</td>\n",
       "      <td>0.0</td>\n",
       "      <td>1.0</td>\n",
       "      <td>29.0</td>\n",
       "      <td>1.0</td>\n",
       "      <td>0.0</td>\n",
       "      <td>0.0</td>\n",
       "      <td>1.0</td>\n",
       "      <td>1.0</td>\n",
       "      <td>...</td>\n",
       "      <td>1.0</td>\n",
       "      <td>0.0</td>\n",
       "      <td>2.0</td>\n",
       "      <td>0.0</td>\n",
       "      <td>0.0</td>\n",
       "      <td>0.0</td>\n",
       "      <td>0.0</td>\n",
       "      <td>8.0</td>\n",
       "      <td>5.0</td>\n",
       "      <td>8.0</td>\n",
       "    </tr>\n",
       "    <tr>\n",
       "      <th>...</th>\n",
       "      <td>...</td>\n",
       "      <td>...</td>\n",
       "      <td>...</td>\n",
       "      <td>...</td>\n",
       "      <td>...</td>\n",
       "      <td>...</td>\n",
       "      <td>...</td>\n",
       "      <td>...</td>\n",
       "      <td>...</td>\n",
       "      <td>...</td>\n",
       "      <td>...</td>\n",
       "      <td>...</td>\n",
       "      <td>...</td>\n",
       "      <td>...</td>\n",
       "      <td>...</td>\n",
       "      <td>...</td>\n",
       "      <td>...</td>\n",
       "      <td>...</td>\n",
       "      <td>...</td>\n",
       "      <td>...</td>\n",
       "      <td>...</td>\n",
       "    </tr>\n",
       "    <tr>\n",
       "      <th>70687</th>\n",
       "      <td>1.0</td>\n",
       "      <td>0.0</td>\n",
       "      <td>1.0</td>\n",
       "      <td>1.0</td>\n",
       "      <td>37.0</td>\n",
       "      <td>0.0</td>\n",
       "      <td>0.0</td>\n",
       "      <td>0.0</td>\n",
       "      <td>0.0</td>\n",
       "      <td>0.0</td>\n",
       "      <td>...</td>\n",
       "      <td>1.0</td>\n",
       "      <td>0.0</td>\n",
       "      <td>4.0</td>\n",
       "      <td>0.0</td>\n",
       "      <td>0.0</td>\n",
       "      <td>0.0</td>\n",
       "      <td>0.0</td>\n",
       "      <td>6.0</td>\n",
       "      <td>4.0</td>\n",
       "      <td>1.0</td>\n",
       "    </tr>\n",
       "    <tr>\n",
       "      <th>70688</th>\n",
       "      <td>1.0</td>\n",
       "      <td>0.0</td>\n",
       "      <td>1.0</td>\n",
       "      <td>1.0</td>\n",
       "      <td>29.0</td>\n",
       "      <td>1.0</td>\n",
       "      <td>0.0</td>\n",
       "      <td>1.0</td>\n",
       "      <td>0.0</td>\n",
       "      <td>1.0</td>\n",
       "      <td>...</td>\n",
       "      <td>1.0</td>\n",
       "      <td>0.0</td>\n",
       "      <td>2.0</td>\n",
       "      <td>0.0</td>\n",
       "      <td>0.0</td>\n",
       "      <td>1.0</td>\n",
       "      <td>1.0</td>\n",
       "      <td>10.0</td>\n",
       "      <td>3.0</td>\n",
       "      <td>6.0</td>\n",
       "    </tr>\n",
       "    <tr>\n",
       "      <th>70689</th>\n",
       "      <td>1.0</td>\n",
       "      <td>1.0</td>\n",
       "      <td>1.0</td>\n",
       "      <td>1.0</td>\n",
       "      <td>25.0</td>\n",
       "      <td>0.0</td>\n",
       "      <td>0.0</td>\n",
       "      <td>1.0</td>\n",
       "      <td>0.0</td>\n",
       "      <td>1.0</td>\n",
       "      <td>...</td>\n",
       "      <td>1.0</td>\n",
       "      <td>0.0</td>\n",
       "      <td>5.0</td>\n",
       "      <td>15.0</td>\n",
       "      <td>0.0</td>\n",
       "      <td>1.0</td>\n",
       "      <td>0.0</td>\n",
       "      <td>13.0</td>\n",
       "      <td>6.0</td>\n",
       "      <td>4.0</td>\n",
       "    </tr>\n",
       "    <tr>\n",
       "      <th>70690</th>\n",
       "      <td>1.0</td>\n",
       "      <td>1.0</td>\n",
       "      <td>1.0</td>\n",
       "      <td>1.0</td>\n",
       "      <td>18.0</td>\n",
       "      <td>0.0</td>\n",
       "      <td>0.0</td>\n",
       "      <td>0.0</td>\n",
       "      <td>0.0</td>\n",
       "      <td>0.0</td>\n",
       "      <td>...</td>\n",
       "      <td>1.0</td>\n",
       "      <td>0.0</td>\n",
       "      <td>4.0</td>\n",
       "      <td>0.0</td>\n",
       "      <td>0.0</td>\n",
       "      <td>1.0</td>\n",
       "      <td>0.0</td>\n",
       "      <td>11.0</td>\n",
       "      <td>2.0</td>\n",
       "      <td>4.0</td>\n",
       "    </tr>\n",
       "    <tr>\n",
       "      <th>70691</th>\n",
       "      <td>1.0</td>\n",
       "      <td>1.0</td>\n",
       "      <td>1.0</td>\n",
       "      <td>1.0</td>\n",
       "      <td>25.0</td>\n",
       "      <td>0.0</td>\n",
       "      <td>0.0</td>\n",
       "      <td>1.0</td>\n",
       "      <td>1.0</td>\n",
       "      <td>1.0</td>\n",
       "      <td>...</td>\n",
       "      <td>1.0</td>\n",
       "      <td>0.0</td>\n",
       "      <td>2.0</td>\n",
       "      <td>0.0</td>\n",
       "      <td>0.0</td>\n",
       "      <td>0.0</td>\n",
       "      <td>0.0</td>\n",
       "      <td>9.0</td>\n",
       "      <td>6.0</td>\n",
       "      <td>2.0</td>\n",
       "    </tr>\n",
       "  </tbody>\n",
       "</table>\n",
       "<p>70692 rows × 22 columns</p>\n",
       "</div>"
      ],
      "text/plain": [
       "       Diabetes_binary  HighBP  HighChol  CholCheck   BMI  Smoker  Stroke  \\\n",
       "0                  0.0     1.0       0.0        1.0  26.0     0.0     0.0   \n",
       "1                  0.0     1.0       1.0        1.0  26.0     1.0     1.0   \n",
       "2                  0.0     0.0       0.0        1.0  26.0     0.0     0.0   \n",
       "3                  0.0     1.0       1.0        1.0  28.0     1.0     0.0   \n",
       "4                  0.0     0.0       0.0        1.0  29.0     1.0     0.0   \n",
       "...                ...     ...       ...        ...   ...     ...     ...   \n",
       "70687              1.0     0.0       1.0        1.0  37.0     0.0     0.0   \n",
       "70688              1.0     0.0       1.0        1.0  29.0     1.0     0.0   \n",
       "70689              1.0     1.0       1.0        1.0  25.0     0.0     0.0   \n",
       "70690              1.0     1.0       1.0        1.0  18.0     0.0     0.0   \n",
       "70691              1.0     1.0       1.0        1.0  25.0     0.0     0.0   \n",
       "\n",
       "       HeartDiseaseorAttack  PhysActivity  Fruits  ...  AnyHealthcare  \\\n",
       "0                       0.0           1.0     0.0  ...            1.0   \n",
       "1                       0.0           0.0     1.0  ...            1.0   \n",
       "2                       0.0           1.0     1.0  ...            1.0   \n",
       "3                       0.0           1.0     1.0  ...            1.0   \n",
       "4                       0.0           1.0     1.0  ...            1.0   \n",
       "...                     ...           ...     ...  ...            ...   \n",
       "70687                   0.0           0.0     0.0  ...            1.0   \n",
       "70688                   1.0           0.0     1.0  ...            1.0   \n",
       "70689                   1.0           0.0     1.0  ...            1.0   \n",
       "70690                   0.0           0.0     0.0  ...            1.0   \n",
       "70691                   1.0           1.0     1.0  ...            1.0   \n",
       "\n",
       "       NoDocbcCost  GenHlth  MentHlth  PhysHlth  DiffWalk  Sex   Age  \\\n",
       "0              0.0      3.0       5.0      30.0       0.0  1.0   4.0   \n",
       "1              0.0      3.0       0.0       0.0       0.0  1.0  12.0   \n",
       "2              0.0      1.0       0.0      10.0       0.0  1.0  13.0   \n",
       "3              0.0      3.0       0.0       3.0       0.0  1.0  11.0   \n",
       "4              0.0      2.0       0.0       0.0       0.0  0.0   8.0   \n",
       "...            ...      ...       ...       ...       ...  ...   ...   \n",
       "70687          0.0      4.0       0.0       0.0       0.0  0.0   6.0   \n",
       "70688          0.0      2.0       0.0       0.0       1.0  1.0  10.0   \n",
       "70689          0.0      5.0      15.0       0.0       1.0  0.0  13.0   \n",
       "70690          0.0      4.0       0.0       0.0       1.0  0.0  11.0   \n",
       "70691          0.0      2.0       0.0       0.0       0.0  0.0   9.0   \n",
       "\n",
       "       Education  Income  \n",
       "0            6.0     8.0  \n",
       "1            6.0     8.0  \n",
       "2            6.0     8.0  \n",
       "3            6.0     8.0  \n",
       "4            5.0     8.0  \n",
       "...          ...     ...  \n",
       "70687        4.0     1.0  \n",
       "70688        3.0     6.0  \n",
       "70689        6.0     4.0  \n",
       "70690        2.0     4.0  \n",
       "70691        6.0     2.0  \n",
       "\n",
       "[70692 rows x 22 columns]"
      ]
     },
     "execution_count": 3,
     "metadata": {},
     "output_type": "execute_result"
    }
   ],
   "source": [
    "df"
   ]
  },
  {
   "cell_type": "markdown",
   "id": "6008d5f9-1a40-4db4-ac03-0d76a125c46b",
   "metadata": {},
   "source": [
    "**Table description**\n",
    "| Name | Description | Values |\n",
    "| :-------- | :-------- | :-------- |\n",
    "| Diabetes_binary | a dummy variable that shows if someone have diabetes | 0 = no diabetes; 1 = pre-diabetes, diabetes |\n",
    "| HighBP | a dummy variable that shows if someone have high blood pressure | 0 = no; 1 = yes |\n",
    "| HighChol | a dummy variable that shows if someone have high cholesterol| 0 = no; 1 = yes|\n",
    "| BMI | Body max index| a number variable|\n",
    "| Smoker| a variable that indicates if someone smoked at least 100 cigarettes in entire life| 0 = no; 1 = yes|\n",
    "| Stroke| a dummy variable that indicates if someone had a stroke| 0 = no; 1 = yes|\n",
    "| HeartDiseaseorAttack| a dummy variable that indicates if someone had a heart disease or attack| 0 = no; 1 = yes|\n",
    "| PhysActivity| a dummy variable that indicates if someone did any physical activity in past 30 days| 0 = no; 1 = yes|\n",
    "| Fruits| A variable that indicates if someone eat at least 1 fruit per day| 0 = no; 1 = yes|\n",
    "| Veggies| A variable that indicates if someone eat at least 1 vegetables per day| 0 = no; 1 = yes|\n",
    "| HvyAlcoholConsume| adult men >=14 drinks per week and adult women>=7 drinks per week| 0 = no; 1 = yes|\n",
    "| AnyHealthCare| Have any kind of health care coverage, including health insurance, prepaid plans such as HMO, etc. | 0 = no; 1 = yes|\n",
    "| NoDocBCCost| Was there a time in the past 12 months when you needed to see a doctor but could not because of cost?| 0 = no; 1 = yes|\n",
    "| GenHealth| Would you say that in general your health is | scale 1-5 1 = excellent 2 = very good 3 = good 4 = fair 5 = poor|\n",
    "| MentHlth| days of poor mental health | scale 1-30 days|\n",
    "| PhysHltl| physical illness or injury days in past 30 days| scale 1-30 days|\n",
    "| DiffWalk| a variable that indicates if someone have difficult to walk or clim stairs| 0 = no; 1 = yes|\n",
    "| Sex| variable that indicates the gender of someone| 0 = female; 1 = male|\n",
    "| Age| variable that indicates what class of age someone are in| _AGEG5YR see [codebook](https://www.cdc.gov/brfss/annual_data/2015/pdf/codebook15_llcp.pdf)|\n",
    "| Education| variable that indicates how far someone went on education| EDUCA see [codebook](https://www.cdc.gov/brfss/annual_data/2015/pdf/codebook15_llcp.pdf)|\n",
    "| Income| varible that indicates how much someone gain as income| INCOME2 see [codebook](https://www.cdc.gov/brfss/annual_data/2015/pdf/codebook15_llcp.pdf)|"
   ]
  },
  {
   "cell_type": "code",
   "execution_count": 4,
   "id": "64ba6b6b-d04c-42ab-8197-f1da63e5f440",
   "metadata": {},
   "outputs": [
    {
     "data": {
      "text/plain": [
       "Diabetes_binary         0.0\n",
       "HighBP                  0.0\n",
       "HighChol                0.0\n",
       "CholCheck               0.0\n",
       "BMI                     0.0\n",
       "Smoker                  0.0\n",
       "Stroke                  0.0\n",
       "HeartDiseaseorAttack    0.0\n",
       "PhysActivity            0.0\n",
       "Fruits                  0.0\n",
       "Veggies                 0.0\n",
       "HvyAlcoholConsump       0.0\n",
       "AnyHealthcare           0.0\n",
       "NoDocbcCost             0.0\n",
       "GenHlth                 0.0\n",
       "MentHlth                0.0\n",
       "PhysHlth                0.0\n",
       "DiffWalk                0.0\n",
       "Sex                     0.0\n",
       "Age                     0.0\n",
       "Education               0.0\n",
       "Income                  0.0\n",
       "dtype: float64"
      ]
     },
     "execution_count": 4,
     "metadata": {},
     "output_type": "execute_result"
    }
   ],
   "source": [
    "# Check if is there any null values\n",
    "df.isnull().mean()"
   ]
  },
  {
   "cell_type": "markdown",
   "id": "ac3cc902-dfdb-4c0d-a64a-9c3d65f5ed71",
   "metadata": {},
   "source": [
    "## Distribuitions"
   ]
  },
  {
   "cell_type": "markdown",
   "id": "01338511-dda8-4496-8349-e389d87b517f",
   "metadata": {},
   "source": [
    "### Dummy variables distribuitions"
   ]
  },
  {
   "cell_type": "code",
   "execution_count": 5,
   "id": "fa420d4e-fead-4702-b1ee-e952606858f1",
   "metadata": {},
   "outputs": [
    {
     "name": "stdout",
     "output_type": "stream",
     "text": [
      "Ones quantities\n",
      "Diabetes_binary: 50.00%\n",
      "HighBP: 56.00%\n",
      "HighChol: 52.00%\n",
      "Smoker: 47.00%\n",
      "Stroke: 6.00%\n",
      "HeartDiseaseorAttack: 14.00%\n",
      "PhysActivity: 70.00%\n",
      "Fruits: 61.00%\n",
      "Veggies: 78.00%\n",
      "HvyAlcoholConsump: 4.00%\n",
      "AnyHealthcare: 95.00%\n",
      "NoDocbcCost: 9.00%\n",
      "DiffWalk: 25.00%\n",
      "Sex: 45.00%\n"
     ]
    }
   ],
   "source": [
    "dummy_columns = [\"Diabetes_binary\", \"HighBP\", \"HighChol\", \"Smoker\", \"Stroke\", \"HeartDiseaseorAttack\",\n",
    "                 \"PhysActivity\", \"Fruits\", \"Veggies\", \"HvyAlcoholConsump\", \"AnyHealthcare\", \"NoDocbcCost\",\n",
    "                \"DiffWalk\", \"Sex\"]\n",
    "\n",
    "dummy_df = df[dummy_columns]\n",
    "\n",
    "print(\"Ones quantities\")\n",
    "\n",
    "ones = np.array([])\n",
    "zeros = np.array([])\n",
    "titles = np.array([])\n",
    "\n",
    "for column in dummy_df.columns:\n",
    "    count_1 = np.count_nonzero(dummy_df[column])\n",
    "    total = df[column].count()\n",
    "    distribuitions = int((count_1 / total) * 100)\n",
    "    ones = np.append(ones, count_1)\n",
    "    zeros = np.append(zeros, total - count_1)\n",
    "    titles = np.append(titles, column)\n",
    "    \n",
    "    print(f\"{column}: {distribuitions:.2f}%\")"
   ]
  },
  {
   "cell_type": "code",
   "execution_count": 6,
   "id": "7b5c10c0-6a60-43d0-96b3-2f3d2d8980f0",
   "metadata": {},
   "outputs": [
    {
     "data": {
      "text/html": [
       "<iframe\n",
       "    scrolling=\"no\"\n",
       "    width=\"100%\"\n",
       "    height=\"545px\"\n",
       "    src=\"iframe_figures/figure_6.html\"\n",
       "    frameborder=\"0\"\n",
       "    allowfullscreen\n",
       "></iframe>\n"
      ]
     },
     "metadata": {},
     "output_type": "display_data"
    },
    {
     "data": {
      "text/plain": [
       "<Figure size 640x480 with 0 Axes>"
      ]
     },
     "metadata": {},
     "output_type": "display_data"
    }
   ],
   "source": [
    "import plotly.graph_objs as go\n",
    "import plotly.io as pio\n",
    "\n",
    "pio.renderers.default = 'iframe' \n",
    "\n",
    "plot = go.Figure()\n",
    "plot.add_trace(go.Bar(x = ones, y = titles, orientation=\"h\", name=\"1\"))\n",
    "plot.add_trace(go.Bar(x = -zeros, y = titles, orientation=\"h\", name=\"0\", marker=dict(color = \"#00FF00\")))\n",
    "plot.update_layout(barmode=\"overlay\")\n",
    "\n",
    "plt.tight_layout()\n",
    "plt.savefig('grafico_diabetes.png', dpi=300, bbox_inches='tight')\n",
    "\n",
    "plot.show()"
   ]
  },
  {
   "cell_type": "markdown",
   "id": "d012c516-a174-4b51-879c-e9b17918306b",
   "metadata": {},
   "source": [
    "### Age distribuitions"
   ]
  },
  {
   "cell_type": "code",
   "execution_count": 7,
   "id": "825715a6-910a-4f4c-b858-6680f8d1c917",
   "metadata": {},
   "outputs": [
    {
     "data": {
      "text/html": [
       "<div>\n",
       "<style scoped>\n",
       "    .dataframe tbody tr th:only-of-type {\n",
       "        vertical-align: middle;\n",
       "    }\n",
       "\n",
       "    .dataframe tbody tr th {\n",
       "        vertical-align: top;\n",
       "    }\n",
       "\n",
       "    .dataframe thead th {\n",
       "        text-align: right;\n",
       "    }\n",
       "</style>\n",
       "<table border=\"1\" class=\"dataframe\">\n",
       "  <thead>\n",
       "    <tr style=\"text-align: right;\">\n",
       "      <th></th>\n",
       "      <th>Quantity</th>\n",
       "    </tr>\n",
       "  </thead>\n",
       "  <tbody>\n",
       "    <tr>\n",
       "      <th>18 to 24</th>\n",
       "      <td>979</td>\n",
       "    </tr>\n",
       "    <tr>\n",
       "      <th>25 to 29</th>\n",
       "      <td>1396</td>\n",
       "    </tr>\n",
       "    <tr>\n",
       "      <th>30 to 34</th>\n",
       "      <td>2049</td>\n",
       "    </tr>\n",
       "    <tr>\n",
       "      <th>35 to 39</th>\n",
       "      <td>2793</td>\n",
       "    </tr>\n",
       "    <tr>\n",
       "      <th>40 to 44</th>\n",
       "      <td>3520</td>\n",
       "    </tr>\n",
       "    <tr>\n",
       "      <th>45 to 49</th>\n",
       "      <td>4648</td>\n",
       "    </tr>\n",
       "    <tr>\n",
       "      <th>50 to 54</th>\n",
       "      <td>6872</td>\n",
       "    </tr>\n",
       "    <tr>\n",
       "      <th>55 to 59</th>\n",
       "      <td>8603</td>\n",
       "    </tr>\n",
       "    <tr>\n",
       "      <th>60 to 64</th>\n",
       "      <td>10112</td>\n",
       "    </tr>\n",
       "    <tr>\n",
       "      <th>65 to 69</th>\n",
       "      <td>10856</td>\n",
       "    </tr>\n",
       "    <tr>\n",
       "      <th>70 to 74</th>\n",
       "      <td>8044</td>\n",
       "    </tr>\n",
       "    <tr>\n",
       "      <th>75 to 79</th>\n",
       "      <td>5394</td>\n",
       "    </tr>\n",
       "    <tr>\n",
       "      <th>80 or older</th>\n",
       "      <td>5426</td>\n",
       "    </tr>\n",
       "  </tbody>\n",
       "</table>\n",
       "</div>"
      ],
      "text/plain": [
       "             Quantity\n",
       "18 to 24          979\n",
       "25 to 29         1396\n",
       "30 to 34         2049\n",
       "35 to 39         2793\n",
       "40 to 44         3520\n",
       "45 to 49         4648\n",
       "50 to 54         6872\n",
       "55 to 59         8603\n",
       "60 to 64        10112\n",
       "65 to 69        10856\n",
       "70 to 74         8044\n",
       "75 to 79         5394\n",
       "80 or older      5426"
      ]
     },
     "execution_count": 7,
     "metadata": {},
     "output_type": "execute_result"
    }
   ],
   "source": [
    "# Age distribuitions\n",
    "age_data = df[\"Age\"]\n",
    "\n",
    "counter = {}\n",
    "\n",
    "# frequency table (handmade)\n",
    "for i in range(len(age_data)):\n",
    "    if counter.get(int(age_data[i])) != None:\n",
    "        counter[int(age_data[i])] += 1\n",
    "    else:\n",
    "        counter[int(age_data[i])] = 1\n",
    "        \n",
    "sorted_keys = sorted(counter.items())\n",
    "sorted_by_keys_counter = dict(sorted_keys)\n",
    "\n",
    "age_classes = [\"18 to 24\", \"25 to 29\", \"30 to 34\", \"35 to 39\", \"40 to 44\", \"45 to 49\", \"50 to 54\", \"55 to 59\", \"60 to 64\", \"65 to 69\", \"70 to 74\", \"75 to 79\", \"80 or older\"]\n",
    "\n",
    "age_frequencies = pd.DataFrame(index=age_classes, columns=[\"Quantity\"], data=sorted_by_keys_counter.values())\n",
    "\n",
    "age_frequencies"
   ]
  },
  {
   "cell_type": "code",
   "execution_count": 8,
   "id": "27f4375d-6b6e-4ffe-a1bd-8cf6f86dc129",
   "metadata": {},
   "outputs": [
    {
     "data": {
      "text/plain": [
       "<BarContainer object of 13 artists>"
      ]
     },
     "execution_count": 8,
     "metadata": {},
     "output_type": "execute_result"
    },
    {
     "data": {
      "image/png": "[encoded data removed]",
      "text/plain": [
       "<Figure size 1500x800 with 1 Axes>"
      ]
     },
     "metadata": {},
     "output_type": "display_data"
    }
   ],
   "source": [
    "plt.figure(figsize=(15, 8))\n",
    "plt.title(\"Age distribuitions\")\n",
    "plt.bar(age_classes, sorted_by_keys_counter.values())"
   ]
  },
  {
   "cell_type": "code",
   "execution_count": 39,
   "id": "093224d8-f922-4f72-8c5a-326f9ba780ff",
   "metadata": {},
   "outputs": [
    {
     "name": "stdout",
     "output_type": "stream",
     "text": [
      "Age mean: 59.91\n"
     ]
    }
   ],
   "source": [
    "# Calculating mean\n",
    "medium_points = [21, 27, 32, 37, 42, 47, 52, 57, 62, 67, 72, 77, 82]\n",
    "\n",
    "values_list = list(sorted_by_keys_counter.values())\n",
    "sum_f_x = 0\n",
    "sum_f = 0\n",
    "\n",
    "for i in range(len(medium_points)):\n",
    "    sum_f_x += medium_points[i] * values_list[i]\n",
    "    sum_f += values_list[i]\n",
    "\n",
    "age_mean = sum_f_x / sum_f\n",
    "print(f\"Age mean: {age_mean:.2f}\")"
   ]
  },
  {
   "cell_type": "code",
   "execution_count": 46,
   "id": "af16ab1e-c7e7-4310-9607-3a81a9e50220",
   "metadata": {},
   "outputs": [
    {
     "name": "stdout",
     "output_type": "stream",
     "text": [
      "medium points minus mean: [-38.9064250551689, -32.9064250551689, -27.906425055168903, -22.906425055168903, -17.906425055168903, -12.906425055168903, -7.906425055168903, -2.906425055168903, 2.093574944831097, 7.093574944831097, 12.093574944831097, 17.093574944831097, 22.093574944831097]\n",
      "medium points minus mean squared: [1513.7099105734746, 1082.8328099114478, 778.7685593597587, 524.7043088080696, 320.64005825638066, 166.5758077046916, 62.511557153002585, 8.44730660131356, 4.383056049624532, 50.3188054979355, 146.2545549462465, 292.1903043945575, 488.12605384286843]\n"
     ]
    }
   ],
   "source": [
    "medium_point_minus_mean = []\n",
    "medium_point_minus_mean_squared = []\n",
    "\n",
    "for i in range(len(medium_points)):\n",
    "    medium_point_minus_mean.append(medium_points[i] - age_mean)\n",
    "\n",
    "print(f\"medium points minus mean: {medium_point_minus_mean}\")\n",
    "\n",
    "for i in range(len(medium_points)):\n",
    "    medium_point_minus_mean_squared.append(medium_point_minus_mean[i] * medium_point_minus_mean[i])\n",
    "\n",
    "print(f\"medium points minus mean squared: {medium_point_minus_mean_squared}\")\n",
    "\n",
    "for i in range(len(medium_points)):\n",
    "    medium_point_minus_mean_squared.append(medium_point_minus_mean[i] * medium_point_minus_mean[i])"
   ]
  },
  {
   "cell_type": "code",
   "execution_count": 50,
   "id": "c99d7937-cc05-4ac4-8ed8-df80d94784c9",
   "metadata": {},
   "outputs": [
    {
     "name": "stdout",
     "output_type": "stream",
     "text": [
      "Variance: 203.43\n",
      "Standard deviation: 14.26\n"
     ]
    }
   ],
   "source": [
    "import math\n",
    "\n",
    "sum = 0\n",
    "for i in range(len(medium_points)):\n",
    "    sum += medium_point_minus_mean_squared[i] * values_list[i]\n",
    "\n",
    "variance = sum / sum_f - 1\n",
    "print(f\"Variance: {variance:.2f}\")\n",
    "\n",
    "standard_deviation = math.sqrt(variance)\n",
    "\n",
    "print(f\"Standard deviation: {standard_deviation:.2f}\")"
   ]
  },
  {
   "cell_type": "markdown",
   "id": "6166442c-0fb4-4ee9-8c2f-b88813bdcbfc",
   "metadata": {},
   "source": [
    "### Education distribuition"
   ]
  },
  {
   "cell_type": "code",
   "execution_count": 67,
   "id": "7016b243-7dd3-42cc-9e81-1cfb3ce107b5",
   "metadata": {},
   "outputs": [
    {
     "data": {
      "text/html": [
       "<div>\n",
       "<style scoped>\n",
       "    .dataframe tbody tr th:only-of-type {\n",
       "        vertical-align: middle;\n",
       "    }\n",
       "\n",
       "    .dataframe tbody tr th {\n",
       "        vertical-align: top;\n",
       "    }\n",
       "\n",
       "    .dataframe thead th {\n",
       "        text-align: right;\n",
       "    }\n",
       "</style>\n",
       "<table border=\"1\" class=\"dataframe\">\n",
       "  <thead>\n",
       "    <tr style=\"text-align: right;\">\n",
       "      <th></th>\n",
       "      <th>Quantity</th>\n",
       "    </tr>\n",
       "  </thead>\n",
       "  <tbody>\n",
       "    <tr>\n",
       "      <th>Never attended school or only kindergarten</th>\n",
       "      <td>75</td>\n",
       "    </tr>\n",
       "    <tr>\n",
       "      <th>Grades 1 through 8 (Elementary)</th>\n",
       "      <td>1647</td>\n",
       "    </tr>\n",
       "    <tr>\n",
       "      <th>Grades 9 through 11 (Some high school)</th>\n",
       "      <td>3447</td>\n",
       "    </tr>\n",
       "    <tr>\n",
       "      <th>Grade 12 or GED (High school graduate)</th>\n",
       "      <td>19473</td>\n",
       "    </tr>\n",
       "    <tr>\n",
       "      <th>College 1 year to 3 years (Some college or technical school)</th>\n",
       "      <td>20030</td>\n",
       "    </tr>\n",
       "    <tr>\n",
       "      <th>College 4 years or more (College graduate)</th>\n",
       "      <td>26020</td>\n",
       "    </tr>\n",
       "  </tbody>\n",
       "</table>\n",
       "</div>"
      ],
      "text/plain": [
       "                                                    Quantity\n",
       "Never attended school or only kindergarten                75\n",
       "Grades 1 through 8 (Elementary)                         1647\n",
       "Grades 9 through 11 (Some high school)                  3447\n",
       "Grade 12 or GED (High school graduate)                 19473\n",
       "College 1 year to 3 years (Some college or tech...     20030\n",
       "College 4 years or more (College graduate)             26020"
      ]
     },
     "execution_count": 67,
     "metadata": {},
     "output_type": "execute_result"
    }
   ],
   "source": [
    "education = df[\"Education\"]\n",
    "\n",
    "# frequency table\n",
    "education_frequencies = list(education.value_counts().sort_index())\n",
    "\n",
    "education_classes = [\"Never attended school or only kindergarten\", \"Grades 1 through 8 (Elementary)\", \n",
    "                     \"Grades 9 through 11 (Some high school)\", \"Grade 12 or GED (High school graduate)\",\n",
    "                    \"College 1 year to 3 years (Some college or technical school)\", \"College 4 years or more (College graduate)\"]\n",
    "\n",
    "ed_frequency_table =  pd.DataFrame(index=education_classes, columns=[\"Quantity\"], data=education_frequencies)\n",
    "ed_frequency_table"
   ]
  },
  {
   "cell_type": "code",
   "execution_count": 74,
   "id": "ea47cbc8-8bf9-402c-a747-5bb2471f1fb8",
   "metadata": {},
   "outputs": [
    {
     "data": {
      "text/plain": [
       "<BarContainer object of 6 artists>"
      ]
     },
     "execution_count": 74,
     "metadata": {},
     "output_type": "execute_result"
    },
    {
     "data": {
      "image/png": "[encoded data removed]",
      "text/plain": [
       "<Figure size 3000x500 with 1 Axes>"
      ]
     },
     "metadata": {},
     "output_type": "display_data"
    }
   ],
   "source": [
    "plt.figure(figsize=(30, 5))\n",
    "plt.title(\"Education distribuitions\")\n",
    "plt.bar(education_classes, education_frequencies)"
   ]
  },
  {
   "cell_type": "code",
   "execution_count": 83,
   "id": "4fb493ee-8db5-44a7-b127-c3cb7c754f0b",
   "metadata": {},
   "outputs": [
    {
     "name": "stdout",
     "output_type": "stream",
     "text": [
      "Mean: 13.75\n"
     ]
    }
   ],
   "source": [
    "education_medium_points = [0, 4.5, 10, 12, 14, 16]\n",
    "\n",
    "education_frequency_sum = 0\n",
    "for i in range(len(education_frequencies)):\n",
    "    education_frequency_sum += education_frequencies[i]\n",
    "\n",
    "emp_x_f = []\n",
    "for i in range(len(education_frequencies)):\n",
    "    emp_x_f.append(education_frequencies[i] * education_medium_points[i])\n",
    "\n",
    "sum_emp_x_f = 0\n",
    "for i in range(len(education_frequencies)):\n",
    "    sum_emp_x_f += emp_x_f[i]\n",
    "\n",
    "education_mean = sum_emp_x_f / education_frequency_sum\n",
    "\n",
    "print(f\"Mean: {education_mean:.2f}\")"
   ]
  },
  {
   "cell_type": "markdown",
   "id": "f3cb3481-dec2-4bf9-8a4a-61499321835f",
   "metadata": {},
   "source": [
    "### Income distribuitions"
   ]
  },
  {
   "cell_type": "code",
   "execution_count": 94,
   "id": "b07b65ec-aa68-4dcf-90ee-a81d88341a66",
   "metadata": {},
   "outputs": [
    {
     "data": {
      "text/plain": [
       "<BarContainer object of 8 artists>"
      ]
     },
     "execution_count": 94,
     "metadata": {},
     "output_type": "execute_result"
    },
    {
     "data": {
      "image/png": "[encoded data removed]",
      "text/plain": [
       "<Figure size 2000x500 with 1 Axes>"
      ]
     },
     "metadata": {},
     "output_type": "display_data"
    }
   ],
   "source": [
    "income = df[\"Income\"]\n",
    "\n",
    "income_frequencies = list(income.value_counts().sort_index())\n",
    "income_classes = [\"<10,000\", \"10,000–15,000\", \"15,000–20,000\", \"20,000–25,000\", \"25,000–35,000\", \"35,000–50,000\", \"50,001–75,000\", \">75,000\"]\n",
    "\n",
    "plt.figure(figsize=(20, 5))\n",
    "plt.bar(income_classes, income_frequencies)"
   ]
  },
  {
   "cell_type": "code",
   "execution_count": 100,
   "id": "af329f1b-d50e-46fd-88af-f510776525fa",
   "metadata": {},
   "outputs": [
    {
     "name": "stdout",
     "output_type": "stream",
     "text": [
      "Annual income mean: 24255.77\n"
     ]
    }
   ],
   "source": [
    "income_medium_points = [5000 ,12500, 17500, 22500, 30000, 42500, 62500, 87,500]\n",
    "\n",
    "income_frequencies_x_mp = 0\n",
    "for i in range(len(income_frequencies)):\n",
    "    income_frequencies_x_mp += income_medium_points[i] * income_frequencies[i]\n",
    "\n",
    "sum_income_frequencies = 0\n",
    "for i in range(len(income_frequencies)):\n",
    "    sum_income_frequencies += income_frequencies[i]\n",
    "\n",
    "income_mean = income_frequencies_x_mp / sum_income_frequencies\n",
    "\n",
    "print(f\"Annual income mean: {income_mean:.2f}\")"
   ]
  },
  {
   "cell_type": "markdown",
   "id": "1855ee1d-93ba-49b7-9343-4d6f037a5056",
   "metadata": {},
   "source": [
    "### BMI analysis"
   ]
  },
  {
   "cell_type": "code",
   "execution_count": 135,
   "id": "17384c1e-9708-4cd3-a8b2-b0c12d2bb323",
   "metadata": {},
   "outputs": [
    {
     "data": {
      "image/png": "[encoded data removed]",
      "text/plain": [
       "<Figure size 640x480 with 1 Axes>"
      ]
     },
     "metadata": {},
     "output_type": "display_data"
    }
   ],
   "source": [
    "# Split the overall BMI into classes\n",
    "bmi = df[\"BMI\"]\n",
    "\n",
    "underweight = list(bmi[bmi < 18.5])\n",
    "normal_weight = list(bmi[(bmi >= 18.5) & (bmi < 25)])\n",
    "overweight = list(bmi[(bmi >= 25) & (bmi < 30)])\n",
    "obese = list(bmi[bmi >= 30])\n",
    "\n",
    "bmi_classes = [\"underweight\", \"normal_weight\", \"overweight\", \"obese\"]\n",
    "bmi_frequencies = [len(underweight), len(normal_weight), len(overweight), len(obese)]\n",
    "\n",
    "plt.title(\"BMI classes\")\n",
    "plt.bar(bmi_classes, bmi_frequencies)\n",
    "plt.show()"
   ]
  },
  {
   "cell_type": "code",
   "execution_count": 138,
   "id": "8b717efe-10a1-45bf-b3aa-153ebdde4d3f",
   "metadata": {},
   "outputs": [
    {
     "name": "stdout",
     "output_type": "stream",
     "text": [
      "BMI mean: 29.86 - overweight\n"
     ]
    }
   ],
   "source": [
    "# calculate the mean\n",
    "bmi_list = list(bmi)\n",
    "sum_bmi = 0\n",
    "for i in range(len(bmi)):\n",
    "    sum_bmi += bmi_list[i]\n",
    "\n",
    "bmi_mean = sum_bmi / len(bmi)\n",
    "\n",
    "print(f\"BMI mean: {bmi_mean:.2f} - overweight\")"
   ]
  },
  {
   "cell_type": "code",
   "execution_count": 143,
   "id": "b038c881-06db-4469-992e-2e18dc07a828",
   "metadata": {},
   "outputs": [
    {
     "name": "stdout",
     "output_type": "stream",
     "text": [
      "Median: 29.0 - overweight\n"
     ]
    }
   ],
   "source": [
    "# calculate the median\n",
    "sorted_bmi_list = sorted(bmi_list)\n",
    "\n",
    "bmi_median = sorted_bmi_list[int(len(sorted_bmi_list) / 2)]\n",
    "print(f\"Median: {bmi_median} - overweight\")"
   ]
  },
  {
   "cell_type": "markdown",
   "id": "da0d45bf-d7a9-41d8-a6de-794153a31c32",
   "metadata": {},
   "source": [
    "### General health distribuitions"
   ]
  },
  {
   "cell_type": "code",
   "execution_count": 150,
   "id": "31221e15-f1ee-4e2b-85d3-673866dd144f",
   "metadata": {},
   "outputs": [
    {
     "data": {
      "image/png": "[encoded data removed]",
      "text/plain": [
       "<Figure size 1000x500 with 1 Axes>"
      ]
     },
     "metadata": {},
     "output_type": "display_data"
    }
   ],
   "source": [
    "# Split the raw general health into the classes\n",
    "gen_health = df[\"GenHlth\"]\n",
    "\n",
    "excellent = gen_health[gen_health == 1]\n",
    "very_good = gen_health[gen_health == 2]\n",
    "good = gen_health[gen_health == 3]\n",
    "fair = gen_health[gen_health == 4]\n",
    "poor = gen_health[gen_health == 5]\n",
    "\n",
    "gen_health_classes = [\"Excellent\", \"Very good\", \"Good\", \"Fair\", \"Poor\"]\n",
    "gen_health_frequencies = [len(excellent), len(very_good), len(good), len(fair), len(poor)]\n",
    "\n",
    "plt.figure(figsize=(10, 5))\n",
    "plt.title(\"General health distribuitions\")\n",
    "plt.bar(gen_health_classes, gen_health_frequencies)\n",
    "plt.show()"
   ]
  },
  {
   "cell_type": "code",
   "execution_count": 154,
   "id": "d7af879f-fa25-4c75-9fab-c610f5e55de7",
   "metadata": {},
   "outputs": [
    {
     "name": "stdout",
     "output_type": "stream",
     "text": [
      "General health mean: 2.84 - very good to good\n"
     ]
    }
   ],
   "source": [
    "# Calculating the mean\n",
    "sum_gen_health_frequencies = 1 * len(excellent) + 2 * len(very_good) + 3 * len(good) + 4 * len(fair) + 5 * len(poor)\n",
    "\n",
    "gen_health_mean = sum_gen_health_frequencies / len(gen_health)\n",
    "\n",
    "print(f\"General health mean: {gen_health_mean:.2f} - very good to good\")"
   ]
  },
  {
   "cell_type": "code",
   "execution_count": 156,
   "id": "3433b3e0-91a7-4ce5-bd18-9bc52ceeed71",
   "metadata": {},
   "outputs": [
    {
     "name": "stdout",
     "output_type": "stream",
     "text": [
      "General health median: 3.0\n"
     ]
    }
   ],
   "source": [
    "# Calculating median\n",
    "gen_health_median = sorted(gen_health)[int(len(gen_health) / 2)]\n",
    "\n",
    "print(f\"General health median: {gen_health_median}\")"
   ]
  },
  {
   "cell_type": "code",
   "execution_count": null,
   "id": "7fab7ab5-0645-4186-90de-3804096f53a0",
   "metadata": {},
   "outputs": [],
   "source": []
  }
 ],
 "metadata": {
  "kernelspec": {
   "display_name": "Python 3 (ipykernel)",
   "language": "python",
   "name": "python3"
  },
  "language_info": {
   "codemirror_mode": {
    "name": "ipython",
    "version": 3
   },
   "file_extension": ".py",
   "mimetype": "text/x-python",
   "name": "python",
   "nbconvert_exporter": "python",
   "pygments_lexer": "ipython3",
   "version": "3.13.7"
  }
 },
 "nbformat": 4,
 "nbformat_minor": 5
}
